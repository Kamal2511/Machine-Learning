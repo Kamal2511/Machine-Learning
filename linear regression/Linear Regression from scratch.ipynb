{
 "cells": [
  {
   "cell_type": "code",
   "execution_count": 1,
   "id": "b4ed996f",
   "metadata": {},
   "outputs": [],
   "source": [
    "import numpy as np\n",
    "import pandas as pd\n",
    "import matplotlib.pyplot as plt"
   ]
  },
  {
   "cell_type": "code",
   "execution_count": 2,
   "id": "e98bf719",
   "metadata": {},
   "outputs": [],
   "source": [
    "data = pd.read_csv('Salary_Data.csv')"
   ]
  },
  {
   "cell_type": "code",
   "execution_count": 3,
   "id": "6be4a9ac",
   "metadata": {},
   "outputs": [
    {
     "data": {
      "text/html": [
       "<div>\n",
       "<style scoped>\n",
       "    .dataframe tbody tr th:only-of-type {\n",
       "        vertical-align: middle;\n",
       "    }\n",
       "\n",
       "    .dataframe tbody tr th {\n",
       "        vertical-align: top;\n",
       "    }\n",
       "\n",
       "    .dataframe thead th {\n",
       "        text-align: right;\n",
       "    }\n",
       "</style>\n",
       "<table border=\"1\" class=\"dataframe\">\n",
       "  <thead>\n",
       "    <tr style=\"text-align: right;\">\n",
       "      <th></th>\n",
       "      <th>YearsExperience</th>\n",
       "      <th>Salary</th>\n",
       "    </tr>\n",
       "  </thead>\n",
       "  <tbody>\n",
       "    <tr>\n",
       "      <th>0</th>\n",
       "      <td>1.1</td>\n",
       "      <td>39343.0</td>\n",
       "    </tr>\n",
       "    <tr>\n",
       "      <th>1</th>\n",
       "      <td>1.3</td>\n",
       "      <td>46205.0</td>\n",
       "    </tr>\n",
       "    <tr>\n",
       "      <th>2</th>\n",
       "      <td>1.5</td>\n",
       "      <td>37731.0</td>\n",
       "    </tr>\n",
       "    <tr>\n",
       "      <th>3</th>\n",
       "      <td>2.0</td>\n",
       "      <td>43525.0</td>\n",
       "    </tr>\n",
       "    <tr>\n",
       "      <th>4</th>\n",
       "      <td>2.2</td>\n",
       "      <td>39891.0</td>\n",
       "    </tr>\n",
       "  </tbody>\n",
       "</table>\n",
       "</div>"
      ],
      "text/plain": [
       "   YearsExperience   Salary\n",
       "0              1.1  39343.0\n",
       "1              1.3  46205.0\n",
       "2              1.5  37731.0\n",
       "3              2.0  43525.0\n",
       "4              2.2  39891.0"
      ]
     },
     "execution_count": 3,
     "metadata": {},
     "output_type": "execute_result"
    }
   ],
   "source": [
    "data.head(5)"
   ]
  },
  {
   "cell_type": "code",
   "execution_count": 4,
   "id": "aa76c99c",
   "metadata": {},
   "outputs": [
    {
     "data": {
      "image/png": "[encoded data removed]",
      "text/plain": [
       "<Figure size 432x288 with 1 Axes>"
      ]
     },
     "metadata": {
      "needs_background": "light"
     },
     "output_type": "display_data"
    }
   ],
   "source": [
    "plt.scatter(data['YearsExperience'], data['Salary'], color=\"green\")   \n",
    "plt.xlabel(\"Years of Experience\")  \n",
    "plt.ylabel(\"Salary(In Rupees)\")  \n",
    "plt.show() "
   ]
  },
  {
   "cell_type": "code",
   "execution_count": 5,
   "id": "53ef37cb",
   "metadata": {},
   "outputs": [],
   "source": [
    "x = data['YearsExperience']\n",
    "y = data['Salary']\n"
   ]
  },
  {
   "cell_type": "code",
   "execution_count": 6,
   "id": "ba5d2862",
   "metadata": {},
   "outputs": [],
   "source": [
    "def slope(x,y):\n",
    "    x_bar = np.mean(x)\n",
    "    y_bar = np.mean(y)\n",
    "    m = ((x_bar*y_bar) - np.mean(x*y))/(x_bar**2 - np.mean(x*x))\n",
    "    return m"
   ]
  },
  {
   "cell_type": "code",
   "execution_count": 7,
   "id": "72f61862",
   "metadata": {},
   "outputs": [],
   "source": [
    "slope = slope(x,y)"
   ]
  },
  {
   "cell_type": "code",
   "execution_count": 8,
   "id": "511bff7d",
   "metadata": {},
   "outputs": [],
   "source": [
    "def intercept(x,y):\n",
    "    x_bar = np.mean(x)\n",
    "    y_bar = np.mean(y)\n",
    "    c = y_bar - slope*x_bar\n",
    "    return c"
   ]
  },
  {
   "cell_type": "code",
   "execution_count": 9,
   "id": "e30a0d87",
   "metadata": {},
   "outputs": [],
   "source": [
    "intercept = intercept(x,y)"
   ]
  },
  {
   "cell_type": "code",
   "execution_count": 10,
   "id": "47dee417",
   "metadata": {},
   "outputs": [],
   "source": [
    "for i in x:\n",
    "   \n",
    "    y = slope*x + intercept\n",
    "    "
   ]
  },
  {
   "cell_type": "code",
   "execution_count": 11,
   "id": "e1f6cbff",
   "metadata": {},
   "outputs": [
    {
     "data": {
      "text/plain": [
       "[0      36187.158752\n",
       " 1      38077.151217\n",
       " 2      39967.143681\n",
       " 3      44692.124842\n",
       " 4      46582.117306\n",
       " 5      53197.090931\n",
       " 6      54142.087163\n",
       " 7      56032.079627\n",
       " 8      56032.079627\n",
       " 9      60757.060788\n",
       " 10     62647.053252\n",
       " 11     63592.049484\n",
       " 12     63592.049484\n",
       " 13     64537.045717\n",
       " 14     68317.030645\n",
       " 15     72097.015574\n",
       " 16     73987.008038\n",
       " 17     75877.000502\n",
       " 18     81546.977895\n",
       " 19     82491.974127\n",
       " 20     90051.943985\n",
       " 21     92886.932681\n",
       " 22    100446.902538\n",
       " 23    103281.891235\n",
       " 24    108006.872395\n",
       " 25    110841.861092\n",
       " 26    115566.842252\n",
       " 27    116511.838485\n",
       " 28    123126.812110\n",
       " 29    125016.804574\n",
       " Name: YearsExperience, dtype: float64]"
      ]
     },
     "execution_count": 11,
     "metadata": {},
     "output_type": "execute_result"
    }
   ],
   "source": [
    "line"
   ]
  },
  {
   "cell_type": "code",
   "execution_count": 14,
   "id": "1e64a040",
   "metadata": {},
   "outputs": [
    {
     "data": {
      "image/png": "[encoded data removed]",
      "text/plain": [
       "<Figure size 432x288 with 1 Axes>"
      ]
     },
     "metadata": {
      "needs_background": "light"
     },
     "output_type": "display_data"
    }
   ],
   "source": [
    "plt.scatter(data['YearsExperience'], data['Salary'], color=\"green\")   \n",
    "plt.plot(x,y, color=\"red\")    \n",
    "plt.xlabel(\"Years of Experience\")  \n",
    "plt.ylabel(\"Salary(In Rupees)\")  \n",
    "plt.show() "
   ]
  },
  {
   "cell_type": "code",
   "execution_count": null,
   "id": "53b08043",
   "metadata": {},
   "outputs": [],
   "source": []
  }
 ],
 "metadata": {
  "kernelspec": {
   "display_name": "Python 3",
   "language": "python",
   "name": "python3"
  },
  "language_info": {
   "codemirror_mode": {
    "name": "ipython",
    "version": 3
   },
   "file_extension": ".py",
   "mimetype": "text/x-python",
   "name": "python",
   "nbconvert_exporter": "python",
   "pygments_lexer": "ipython3",
   "version": "3.8.8"
  }
 },
 "nbformat": 4,
 "nbformat_minor": 5
}
