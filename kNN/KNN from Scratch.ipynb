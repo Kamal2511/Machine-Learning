{
 "cells": [
  {
   "cell_type": "code",
   "execution_count": 52,
   "id": "8fe5539b",
   "metadata": {},
   "outputs": [],
   "source": [
    "data = [[1,2,0],\n",
    "     [2,4,1],\n",
    "     [3,1,0],\n",
    "     [5,3,0],\n",
    "     [6,1,1],\n",
    "     [4,5,1],\n",
    "     [7,3,0],\n",
    "     [8,4,1]]"
   ]
  },
  {
   "cell_type": "code",
   "execution_count": 57,
   "id": "6e5db095",
   "metadata": {},
   "outputs": [],
   "source": [
    "def distance(x,y):\n",
    "    distance = 0.0\n",
    "    for i in range(len(x)-1):\n",
    "        distance += (x[i]-y[i])**2 # sqrt((x1-y1)**2)\n",
    "        dist = (distance)**(1/2)\n",
    "    return dist"
   ]
  },
  {
   "cell_type": "code",
   "execution_count": 59,
   "id": "03884fa4",
   "metadata": {},
   "outputs": [
    {
     "name": "stdout",
     "output_type": "stream",
     "text": [
      "0.0\n",
      "2.23606797749979\n",
      "2.23606797749979\n",
      "4.123105625617661\n",
      "5.0990195135927845\n",
      "4.242640687119285\n",
      "6.082762530298219\n",
      "7.280109889280518\n"
     ]
    }
   ],
   "source": [
    "x0 = data[0]\n",
    "for row in data:\n",
    "    dist = distance(x0,row)\n",
    "    print(dist)\n",
    "  "
   ]
  },
  {
   "cell_type": "code",
   "execution_count": 60,
   "id": "15ffbce4",
   "metadata": {},
   "outputs": [
    {
     "data": {
      "text/plain": [
       "2.23606797749979"
      ]
     },
     "execution_count": 60,
     "metadata": {},
     "output_type": "execute_result"
    }
   ],
   "source": [
    "((2-1)**2 + (4-2)**2)**(1/2)"
   ]
  },
  {
   "cell_type": "code",
   "execution_count": null,
   "id": "eda6d2c7",
   "metadata": {},
   "outputs": [],
   "source": []
  }
 ],
 "metadata": {
  "kernelspec": {
   "display_name": "Python 3",
   "language": "python",
   "name": "python3"
  },
  "language_info": {
   "codemirror_mode": {
    "name": "ipython",
    "version": 3
   },
   "file_extension": ".py",
   "mimetype": "text/x-python",
   "name": "python",
   "nbconvert_exporter": "python",
   "pygments_lexer": "ipython3",
   "version": "3.8.8"
  }
 },
 "nbformat": 4,
 "nbformat_minor": 5
}
